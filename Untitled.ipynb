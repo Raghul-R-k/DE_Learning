{
 "cells": [
  {
   "cell_type": "code",
   "execution_count": null,
   "id": "d4bec2d1-9109-45f2-88df-d2d58ca998fc",
   "metadata": {},
   "outputs": [],
   "source": [
    "print(\"Hello World in github codespaces\")"
   ]
  }
 ],
 "metadata": {
  "kernelspec": {
   "display_name": "Python 3 (ipykernel)",
   "language": "python",
   "name": "python3"
  },
  "language_info": {
   "codemirror_mode": {
    "name": "ipython",
    "version": 3
   },
   "file_extension": ".py",
   "mimetype": "text/x-python",
   "name": "python",
   "nbconvert_exporter": "python",
   "pygments_lexer": "ipython3",
   "version": "3.12.1"
  }
 },
 "nbformat": 4,
 "nbformat_minor": 5
}
